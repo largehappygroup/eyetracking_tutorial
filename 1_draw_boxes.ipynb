{
 "cells": [
  {
   "cell_type": "code",
   "execution_count": 1,
   "metadata": {},
   "outputs": [
    {
     "name": "stderr",
     "output_type": "stream",
     "text": [
      "CUDA not available - defaulting to CPU. Note: This module is much faster with a GPU.\n"
     ]
    }
   ],
   "source": [
    "import os\n",
    "import re\n",
    "import csv\n",
    "import cv2\n",
    "import easyocr\n",
    "import numpy as np\n",
    "import pandas as pd\n",
    "from matplotlib import pyplot as plt\n",
    "os.environ['TF_CPP_MIN_LOG_LEVEL'] = '3'\n",
    "reader = easyocr.Reader(['en'])"
   ]
  },
  {
   "cell_type": "code",
   "execution_count": 2,
   "metadata": {},
   "outputs": [
    {
     "name": "stdout",
     "output_type": "stream",
     "text": [
      "1\n"
     ]
    }
   ],
   "source": [
    "# directory that contains screenshots for all the stimuli\n",
    "pics = os.listdir('./stimuli')\n",
    "print(len(pics))"
   ]
  },
  {
   "cell_type": "code",
   "execution_count": 3,
   "metadata": {},
   "outputs": [
    {
     "name": "stdout",
     "output_type": "stream",
     "text": [
      "162\n"
     ]
    }
   ],
   "source": [
    "# This file contains all the information for the stimuli (fuction name, id #, summaries, code)\n",
    "stimdf = pd.read_csv('pruned_seeds2.csv')\n",
    "print(len(stimdf))"
   ]
  },
  {
   "cell_type": "code",
   "execution_count": 21,
   "metadata": {},
   "outputs": [
    {
     "name": "stdout",
     "output_type": "stream",
     "text": [
      "file exists\n",
      "37\n"
     ]
    }
   ],
   "source": [
    "## read through pngs and find corresponding function\n",
    "for pic in pics:\n",
    "    name = re.split('.png', pic)[0]\n",
    "    \n",
    "    # temp contains all the images for each word, split by function name\n",
    "    try:\n",
    "        os.mkdir('./temp/{name}'.format(name=name))\n",
    "    except:\n",
    "        print(\"file exists\")\n",
    "    boxfile = '{name}_boxes.csv'.format(name=name)\n",
    "    df = pd.DataFrame()\n",
    "    row = np.where(stimdf['name'] == name) # finding row specific to each function\n",
    "    i = row[0][0]\n",
    "    func = stimdf['function'][i] # getting actual Java code for each stimulus\n",
    "    split = re.split(\" |\\n\", func) # splitting each function by spaces and newlines to get word level \n",
    "    split = list(filter(None, split))\n",
    "    \n",
    "    # now with all the code split up, create actual bounding boxes on images\n",
    "    # basically just a pipeline with cv2\n",
    "    \n",
    "    img = cv2.imread('./stimuli/{pic}'.format(pic=pic)) # \n",
    "    img = img[100:1000, 10:1150]\n",
    "    gray = cv2.cvtColor(img, cv2.COLOR_BGR2GRAY)\n",
    "    ret, thresh = cv2.threshold(gray, 0, 255, cv2.THRESH_OTSU | cv2.THRESH_BINARY_INV)\n",
    "    rect_kernel = cv2.getStructuringElement(cv2.MORPH_RECT, (8, 8))\n",
    "    dilation = cv2.dilate(thresh, rect_kernel, iterations=1)\n",
    "    contours, hierarchy = cv2.findContours(dilation, cv2.RETR_EXTERNAL, cv2.CHAIN_APPROX_NONE)\n",
    "    print(len(contours)) # number of words caught by bounding boxes\n",
    "    \n",
    "    unpredicted = 0 # need to do these manually\n",
    "    for ii, box in enumerate(contours):\n",
    "        box = contours[(len(contours)-1)-ii]\n",
    "        x, y, w, h = cv2.boundingRect(box)  # coordinates, width, and height\n",
    "        tangle = cv2.rectangle(img, (x, y), (x+w, y+h),(0, 255, 0, 2))  # drawing the rectangle\n",
    "        word_img = img[y+1:(y+1)+(h-1), x+1:(x+1)+(w-1)] # actual pixel values for word\n",
    "        resized = cv2.resize(word_img, (w*5, h*5),interpolation=cv2.INTER_CUBIC) # bumping up size to improve OCR\n",
    "\n",
    "        # Convert image to grayscale\n",
    "        gray = cv2.cvtColor(resized, cv2.COLOR_BGR2GRAY)\n",
    "        # Apply thresholding to remove noise\n",
    "        thresh = cv2.threshold(gray, 0, 255, cv2.THRESH_BINARY_INV + cv2.THRESH_OTSU)[1]\n",
    "\n",
    "        # Perform dilation to make characters more prominent\n",
    "        kernel = cv2.getStructuringElement(cv2.MORPH_RECT, (1, 1))\n",
    "        dilated = cv2.dilate(thresh, kernel, iterations=1)\n",
    "        # We generate a copy of the image and apply a dilation kernel \n",
    "        # and median blur on it. - ChatGPT\n",
    "        blurred = cv2.medianBlur(dilated, 1)\n",
    "        \n",
    "        # Perform erosion to remove any remaining noise\n",
    "        erosion = cv2.erode(blurred, kernel, iterations=1)\n",
    "        inverted = 255 - erosion\n",
    "\n",
    "        # Perform OCR on the inverted image\n",
    "        result = reader.readtext(inverted)\n",
    "        \n",
    "        if not result: # sometimes word was null\n",
    "            cv2.imwrite(\"./temp/{func}/{c}_unknown.png\".format(func=name, c=unpredicted), inverted)\n",
    "            temp = pd.DataFrame([['unknown_{i}'.format(i=unpredicted), x, y, w, h]]) # still adding the row\n",
    "            df = pd.concat([df, temp], ignore_index=True)\n",
    "            unpredicted += 1\n",
    "        for r in result:\n",
    "            cv2.imwrite(\"./temp/{func}/{c}.png\".format(c=r[1],func=name), inverted)\n",
    "            temp = pd.DataFrame([[re.sub(\" \", \"\", r[1]), x, y, w, h]])\n",
    "            df = pd.concat([df, temp], ignore_index=True)\n",
    "\n",
    "    #cv2.imwrite(\"./temp/{name}/{c}_func.png\".format(c=name, name=name), img)\n",
    "    df.columns = ['word', 'x', 'y', 'width', 'height']\n",
    "    \n",
    "    df = df.sort_values(['y','x']) # some characters had different heights (B vs. +), so the below code \n",
    "    count = 0                      # standardizes row values and sorts each row\n",
    "    standard = df.iloc[0, 2]       # now we have bounding box files that read sequentially in order\n",
    "    for i, row in df.iterrows():\n",
    "        if i < len(df)-1:\n",
    "            diff = df.iloc[i+1, 2]-row[2]\n",
    "            if diff > 20: # heuristic for new row height\n",
    "                standard = df.iloc[i+1, 2]\n",
    "            else:\n",
    "                row[2] = standard\n",
    "                df.iloc[i+1, 2] = standard\n",
    "    df = df.sort_values(['y', 'x'])\n",
    "    pd.DataFrame.to_csv(df, \"./word_coordinates/{name}_boxes.csv\".format(name=name))\n",
    "    "
   ]
  }
 ],
 "metadata": {
  "kernelspec": {
   "display_name": "Python 3",
   "language": "python",
   "name": "python3"
  },
  "language_info": {
   "codemirror_mode": {
    "name": "ipython",
    "version": 3
   },
   "file_extension": ".py",
   "mimetype": "text/x-python",
   "name": "python",
   "nbconvert_exporter": "python",
   "pygments_lexer": "ipython3",
   "version": "3.8.10"
  },
  "orig_nbformat": 4
 },
 "nbformat": 4,
 "nbformat_minor": 2
}
