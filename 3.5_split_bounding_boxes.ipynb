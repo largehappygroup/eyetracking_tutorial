{
 "cells": [
  {
   "attachments": {},
   "cell_type": "markdown",
   "metadata": {},
   "source": [
    "- This script splits bounding boxes that have a function call \n",
    "using the dot operator.\n",
    "- For mapping bounding boxes to parts of the code, it's easier\n",
    "to separate these than it is to leave them in. \n",
    "- That's because scrML splits these as it makes the ASTs \n",
    "- (e.g. clock.getCurrentTime --> 'clock', '.', 'getCurrentTime')"
   ]
  },
  {
   "cell_type": "code",
   "execution_count": 5,
   "metadata": {},
   "outputs": [],
   "source": [
    "import os\n",
    "import re\n",
    "import math\n",
    "import pandas as pd"
   ]
  },
  {
   "cell_type": "code",
   "execution_count": 6,
   "metadata": {},
   "outputs": [
    {
     "ename": "FileNotFoundError",
     "evalue": "[Errno 2] No such file or directory: './word_coordinates_final/'",
     "output_type": "error",
     "traceback": [
      "\u001b[0;31m---------------------------------------------------------------------------\u001b[0m",
      "\u001b[0;31mFileNotFoundError\u001b[0m                         Traceback (most recent call last)",
      "Cell \u001b[0;32mIn [6], line 1\u001b[0m\n\u001b[0;32m----> 1\u001b[0m box_files \u001b[38;5;241m=\u001b[39m \u001b[43mos\u001b[49m\u001b[38;5;241;43m.\u001b[39;49m\u001b[43mlistdir\u001b[49m\u001b[43m(\u001b[49m\u001b[38;5;124;43m\"\u001b[39;49m\u001b[38;5;124;43m./word_coordinates_final/\u001b[39;49m\u001b[38;5;124;43m\"\u001b[39;49m\u001b[43m)\u001b[49m\n",
      "\u001b[0;31mFileNotFoundError\u001b[0m: [Errno 2] No such file or directory: './word_coordinates_final/'"
     ]
    }
   ],
   "source": [
    "box_files = os.listdir(\"./word_coordinates_final/\")"
   ]
  },
  {
   "cell_type": "code",
   "execution_count": 7,
   "metadata": {},
   "outputs": [],
   "source": [
    "# checks whether the word is \"null\", and makes sure \"null\" is still put\n",
    "# into final file\n",
    "def check_word(word):\n",
    "    if isinstance(word, float) and math.isnan(word):\n",
    "        return \"null\"\n",
    "    return word\n",
    "\n",
    "# for each bounding box, calculates the char width to ensure reliable splits\n",
    "def calculate_char_width(row):\n",
    "    return row['width'] / len(row['word'])\n",
    "\n",
    "# for words with a dot (e.g. System.out.println), splits and puts each part into a new row\n",
    "def split_word(row, char_width):\n",
    "    parts = re.split(\"\\.\", row['word'])\n",
    "    new_x = row['x']\n",
    "    replacement = pd.DataFrame()\n",
    "\n",
    "    for j, string in enumerate(parts):\n",
    "        word_width = round(len(string)*char_width)\n",
    "        if word_width == 0:\n",
    "            continue\n",
    "        new_row = pd.Series([string, 0, new_x, row['y'], word_width, row['height'], new_x / 1920,\n",
    "                             row['tobii_y'], word_width / 1920, row['tobii_height']])\n",
    "        # concatenating new rows together\n",
    "        replacement = pd.concat([replacement, new_row], ignore_index=True, axis=1)\n",
    "        new_x += word_width # moving x coordinate by word size\n",
    "    return replacement\n",
    "\n",
    "# occurrence counts for each word got messed up splitting the boxes, so this recalculates for each word\n",
    "# this will also discard comments from the calculations\n",
    "def recalculate_num_occurrences(new_boxes): \n",
    "    occurrences = {}\n",
    "    comment_line = 0\n",
    "    slashes = r'\\/\\/'  # comments in java --> //\n",
    "    \n",
    "    for i, row in new_boxes.iterrows():\n",
    "        word = row['word']\n",
    "        \n",
    "        # comment filter: if word is // or a flag is flilpped, just write \"comment\" in occurrence column\n",
    "        if re.search(slashes, word) or row['y'] == comment_line:\n",
    "            comment_line = row['y']\n",
    "            #occurrences[word] = \"comment\"\n",
    "            continue\n",
    "        \n",
    "        if word not in occurrences:\n",
    "            occurrences[str(word)] = 0\n",
    "        # elif occurrences[word] == 'comment':\n",
    "            \n",
    "        else:\n",
    "            occurrences[str(word)] += 1\n",
    "        row['occurrence'] = occurrences[word]\n",
    "    return new_boxes\n",
    "\n",
    "# used to find words in code that qualify for splitting\n",
    "# 1) if it's a string, \n",
    "# 2) there's a period in it somewhere, and\n",
    "# 3) the whole word isn't itself a string\n",
    "# e.g. System.out.println but not: \"P/x.ctx\" because it's in quotes\n",
    "def needs_to_be_split(word):\n",
    "    pattern = r'\\\"(.+?)\\\"' # pattern checking whether word is a single string\n",
    "    return isinstance(word, str) and re.search(\"\\.\", word) and not re.findall(pattern, word)\n",
    "\n",
    "def process_file(file, new_boxes):\n",
    "    boxes = pd.read_csv(f'./word_coordinates_preprocessed/{file}') # bounding box file\n",
    "    for i, row in boxes.iterrows():\n",
    "        row['word'] = check_word(row['word']) # checks whether word is \"null\"\n",
    "        \n",
    "        if needs_to_be_split(row['word']):\n",
    "            char_width = calculate_char_width(row)\n",
    "            replacement = split_word(row, char_width) # splitting word by dots, returning new dataframe rows\n",
    "            replacement.index = new_boxes.index # currently transposed, so this sets column headers\n",
    "            new_boxes = pd.concat([new_boxes, replacement], ignore_index=True, axis=1)\n",
    "        else:\n",
    "            new_boxes = pd.concat([new_boxes, row.T], ignore_index=True, axis=1)\n",
    "    file = re.sub(\"_boxes\", \"\", file)\n",
    "    new_boxes = recalculate_num_occurrences(new_boxes.T)\n",
    "    new_boxes.to_csv(f\"word_coordinates_split/{file}\", index=False, header=[\n",
    "        'word', 'occurrence', 'x', 'y', 'width', 'height', 'tobii_x',\n",
    "        'tobii_y', 'tobii_width', 'tobii_height'])"
   ]
  },
  {
   "cell_type": "code",
   "execution_count": 8,
   "metadata": {},
   "outputs": [
    {
     "name": "stdout",
     "output_type": "stream",
     "text": [
      "createServerChooser_boxes.csv\n"
     ]
    }
   ],
   "source": [
    "for file in box_files:\n",
    "    new_boxes = pd.DataFrame()\n",
    "    print(file)\n",
    "    process_file(file, new_boxes)"
   ]
  },
  {
   "cell_type": "code",
   "execution_count": null,
   "metadata": {},
   "outputs": [],
   "source": []
  }
 ],
 "metadata": {
  "kernelspec": {
   "display_name": "Python 3",
   "language": "python",
   "name": "python3"
  },
  "language_info": {
   "codemirror_mode": {
    "name": "ipython",
    "version": 3
   },
   "file_extension": ".py",
   "mimetype": "text/x-python",
   "name": "python",
   "nbconvert_exporter": "python",
   "pygments_lexer": "ipython3",
   "version": "3.8.10"
  },
  "orig_nbformat": 4
 },
 "nbformat": 4,
 "nbformat_minor": 2
}
